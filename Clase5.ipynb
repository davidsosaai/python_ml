{
  "nbformat": 4,
  "nbformat_minor": 0,
  "metadata": {
    "colab": {
      "provenance": [],
      "toc_visible": true,
      "authorship_tag": "ABX9TyMK69KoEa6oVzyhAivIM67B",
      "include_colab_link": true
    },
    "kernelspec": {
      "name": "python3",
      "display_name": "Python 3"
    },
    "language_info": {
      "name": "python"
    }
  },
  "cells": [
    {
      "cell_type": "markdown",
      "metadata": {
        "id": "view-in-github",
        "colab_type": "text"
      },
      "source": [
        "<a href=\"https://colab.research.google.com/github/davidsosaai/python_ml/blob/main/Clase5.ipynb\" target=\"_parent\"><img src=\"https://colab.research.google.com/assets/colab-badge.svg\" alt=\"Open In Colab\"/></a>"
      ]
    },
    {
      "cell_type": "markdown",
      "source": [
        "![optimality.png](data:image/png;base64,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)"
      ],
      "metadata": {
        "id": "L8H_18r91f6y"
      }
    },
    {
      "cell_type": "markdown",
      "source": [
        "# Data Transformation and Feature Engineering\n",
        "\n",
        "- Data transformation and feature engineering are critical steps in the data preprocessing pipeline for machine learning and data analysis tasks. They involve creating new features from existing ones, scaling, encoding categorical variables, handling missing data, and more. Here are some common techniques and libraries for data transformation and feature"
      ],
      "metadata": {
        "id": "bTIIN-idBg5J"
      }
    },
    {
      "cell_type": "markdown",
      "source": [
        "# Data scaling and normalization\n",
        "- Data scaling and normalization are essential preprocessing steps in data analysis and machine learning. They help ensure that features with different scales or units have a consistent influence on the models. Python provides libraries like scikit-learn and pandas for performing these operations. Here's how you can scale and normalize data using these libraries"
      ],
      "metadata": {
        "id": "dhZL-8Jg1vZ-"
      }
    },
    {
      "cell_type": "markdown",
      "source": [
        "## Min-Max Scaling (Normalization)\n",
        "\n",
        "- Min-max scaling, also known as normalization, scales the data to a specific range, usually between 0 and 1."
      ],
      "metadata": {
        "id": "DO2puRUX2LqZ"
      }
    },
    {
      "cell_type": "code",
      "source": [
        "from sklearn.preprocessing import MinMaxScaler\n",
        "import numpy as np\n",
        "\n",
        "data = np.array([1, 2, 3, 4, 5]).reshape(-1, 1)  # Sample data, reshape for 1D array\n",
        "\n",
        "scaler = MinMaxScaler()\n",
        "scaled_data = scaler.fit_transform(data)\n",
        "\n",
        "print(scaled_data)\n"
      ],
      "metadata": {
        "colab": {
          "base_uri": "https://localhost:8080/"
        },
        "id": "UOQiR44S2Ppt",
        "outputId": "d70f4db5-7c00-47e0-ea54-879e4f2ce440"
      },
      "execution_count": 1,
      "outputs": [
        {
          "output_type": "stream",
          "name": "stdout",
          "text": [
            "[[0.  ]\n",
            " [0.25]\n",
            " [0.5 ]\n",
            " [0.75]\n",
            " [1.  ]]\n"
          ]
        }
      ]
    },
    {
      "cell_type": "code",
      "source": [
        "import pandas as pd\n",
        "\n",
        "data = pd.Series([1, 2, 3, 4, 5])\n",
        "\n",
        "normalized_data = (data - data.min()) / (data.max() - data.min())\n",
        "\n",
        "print(normalized_data)\n"
      ],
      "metadata": {
        "colab": {
          "base_uri": "https://localhost:8080/"
        },
        "id": "2ud52cR52RwH",
        "outputId": "31cf1816-a36d-4afb-dd1b-c8141905e827"
      },
      "execution_count": 2,
      "outputs": [
        {
          "output_type": "stream",
          "name": "stdout",
          "text": [
            "0    0.00\n",
            "1    0.25\n",
            "2    0.50\n",
            "3    0.75\n",
            "4    1.00\n",
            "dtype: float64\n"
          ]
        }
      ]
    },
    {
      "cell_type": "markdown",
      "source": [
        "## Standardization (Z-Score Scaling)\n",
        "\n",
        "- Standardization transforms data to have a mean of 0 and a standard deviation of 1. It is particularly useful when the data follows a normal distribution"
      ],
      "metadata": {
        "id": "j0yEUt_y2fCd"
      }
    },
    {
      "cell_type": "code",
      "source": [
        "from sklearn.preprocessing import StandardScaler\n",
        "import numpy as np\n",
        "\n",
        "data = np.array([1, 2, 3, 4, 5]).reshape(-1, 1)  # Sample data, reshape for 1D array\n",
        "\n",
        "scaler = StandardScaler()\n",
        "standardized_data = scaler.fit_transform(data)\n",
        "\n",
        "print(standardized_data)\n"
      ],
      "metadata": {
        "colab": {
          "base_uri": "https://localhost:8080/"
        },
        "id": "LkL2GbGB2i7W",
        "outputId": "7ecc6892-bc06-4cd3-b2ff-f884fbee0446"
      },
      "execution_count": 3,
      "outputs": [
        {
          "output_type": "stream",
          "name": "stdout",
          "text": [
            "[[-1.41421356]\n",
            " [-0.70710678]\n",
            " [ 0.        ]\n",
            " [ 0.70710678]\n",
            " [ 1.41421356]]\n"
          ]
        }
      ]
    },
    {
      "cell_type": "code",
      "source": [
        "import pandas as pd\n",
        "\n",
        "data = pd.Series([1, 2, 3, 4, 5])\n",
        "\n",
        "standardized_data = (data - data.mean()) / data.std()\n",
        "\n",
        "print(standardized_data)\n"
      ],
      "metadata": {
        "colab": {
          "base_uri": "https://localhost:8080/"
        },
        "id": "f-4Z6THz2mGd",
        "outputId": "d9f1c7b6-289d-426d-f6b8-b42bbaadf904"
      },
      "execution_count": 4,
      "outputs": [
        {
          "output_type": "stream",
          "name": "stdout",
          "text": [
            "0   -1.264911\n",
            "1   -0.632456\n",
            "2    0.000000\n",
            "3    0.632456\n",
            "4    1.264911\n",
            "dtype: float64\n"
          ]
        }
      ]
    },
    {
      "cell_type": "markdown",
      "source": [
        "- Choose between min-max scaling and standardization based on your data and modeling requirements. Min-max scaling is appropriate when you want your data to be within a specific range, while standardization is useful when working with algorithms that assume a standard normal distribution.\n",
        "\n",
        "- Remember that it's essential to apply scaling and normalization separately to training and test datasets to avoid data leakage and ensure the model's generalizability"
      ],
      "metadata": {
        "id": "w7pgHJO62vVF"
      }
    },
    {
      "cell_type": "markdown",
      "source": [
        "# Encoding categorical variables\n",
        "- Encoding categorical variables is a crucial step in preparing data for machine learning models since most machine learning algorithms require numerical input. There are several techniques to encode categorical variables in Python, and the choice depends on the nature of the categorical data. Here are some common methods using libraries like pandas and scikit-learn"
      ],
      "metadata": {
        "id": "zkk98u1I29p4"
      }
    },
    {
      "cell_type": "markdown",
      "source": [
        "## One-Hot Encoding (pd.get_dummies)\n",
        "\n",
        "- One-hot encoding converts each category into a binary column (0 or 1) and is suitable for nominal categorical variables (categories with no inherent order)"
      ],
      "metadata": {
        "id": "u4B1A1y53LCg"
      }
    },
    {
      "cell_type": "code",
      "source": [
        "import pandas as pd\n",
        "\n",
        "data = pd.DataFrame({'Category': ['A', 'B', 'A', 'C']})\n",
        "\n",
        "# One-hot encode 'Category'\n",
        "encoded_data = pd.get_dummies(data, columns=['Category'])\n",
        "\n",
        "print(encoded_data)\n"
      ],
      "metadata": {
        "colab": {
          "base_uri": "https://localhost:8080/"
        },
        "id": "ukD9XA2V3Otn",
        "outputId": "7ad8ea82-de84-473d-fcd3-bed2c32eddd4"
      },
      "execution_count": 5,
      "outputs": [
        {
          "output_type": "stream",
          "name": "stdout",
          "text": [
            "   Category_A  Category_B  Category_C\n",
            "0           1           0           0\n",
            "1           0           1           0\n",
            "2           1           0           0\n",
            "3           0           0           1\n"
          ]
        }
      ]
    },
    {
      "cell_type": "markdown",
      "source": [
        "## Label Encoding (scikit-learn)\n",
        "\n",
        "- Label encoding assigns a unique integer to each category. It's appropriate for ordinal categorical variables (categories with a specific order)"
      ],
      "metadata": {
        "id": "IMuQzjya3UAQ"
      }
    },
    {
      "cell_type": "code",
      "source": [
        "from sklearn.preprocessing import LabelEncoder\n",
        "\n",
        "data = pd.Series(['Low', 'Medium', 'High', 'Medium'])\n",
        "\n",
        "label_encoder = LabelEncoder()\n",
        "encoded_data = label_encoder.fit_transform(data)\n",
        "\n",
        "print(encoded_data)\n"
      ],
      "metadata": {
        "colab": {
          "base_uri": "https://localhost:8080/"
        },
        "id": "BeX0wafS3XEF",
        "outputId": "2140f82e-ed39-4641-e0bf-39e0519f2819"
      },
      "execution_count": 6,
      "outputs": [
        {
          "output_type": "stream",
          "name": "stdout",
          "text": [
            "[1 2 0 2]\n"
          ]
        }
      ]
    },
    {
      "cell_type": "markdown",
      "source": [
        "## Ordinal Encoding (manually)\n",
        "\n",
        "- For ordinal variables, you can manually map categories to numerical values"
      ],
      "metadata": {
        "id": "KqNCSWEv3ir3"
      }
    },
    {
      "cell_type": "code",
      "source": [
        "data = pd.Series(['Low', 'Medium', 'High', 'Medium'])\n",
        "\n",
        "# Define mapping\n",
        "mapping = {'Low': 0, 'Medium': 1, 'High': 2}\n",
        "\n",
        "encoded_data = data.map(mapping)\n",
        "\n",
        "print(encoded_data)\n"
      ],
      "metadata": {
        "colab": {
          "base_uri": "https://localhost:8080/"
        },
        "id": "YQzmFNcE3mM2",
        "outputId": "20efd5ae-75e5-4203-e534-8cd78628a4d7"
      },
      "execution_count": 7,
      "outputs": [
        {
          "output_type": "stream",
          "name": "stdout",
          "text": [
            "0    0\n",
            "1    1\n",
            "2    2\n",
            "3    1\n",
            "dtype: int64\n"
          ]
        }
      ]
    },
    {
      "cell_type": "markdown",
      "source": [
        "## Binary Encoding (category_encoders)\n",
        "\n",
        "- The category_encoders library provides various encoding methods, including Binary Encoding, which combines the efficiency of one-hot encoding with the ability to handle high-cardinality categorical features"
      ],
      "metadata": {
        "id": "7ykIsz503pZa"
      }
    },
    {
      "cell_type": "code",
      "source": [
        "#if not installed\n",
        "#! pip install category_encoders"
      ],
      "metadata": {
        "colab": {
          "base_uri": "https://localhost:8080/"
        },
        "id": "bmVWytEf31aw",
        "outputId": "3c9ae4dd-cacd-4034-b33c-c1b8bb7dd34d"
      },
      "execution_count": 10,
      "outputs": [
        {
          "output_type": "stream",
          "name": "stdout",
          "text": [
            "Collecting category_encoders\n",
            "  Downloading category_encoders-2.6.2-py2.py3-none-any.whl (81 kB)\n",
            "\u001b[2K     \u001b[90m━━━━━━━━━━━━━━━━━━━━━━━━━━━━━━━━━━━━━━━\u001b[0m \u001b[32m81.8/81.8 kB\u001b[0m \u001b[31m936.7 kB/s\u001b[0m eta \u001b[36m0:00:00\u001b[0m\n",
            "\u001b[?25hRequirement already satisfied: numpy>=1.14.0 in /usr/local/lib/python3.10/dist-packages (from category_encoders) (1.23.5)\n",
            "Requirement already satisfied: scikit-learn>=0.20.0 in /usr/local/lib/python3.10/dist-packages (from category_encoders) (1.2.2)\n",
            "Requirement already satisfied: scipy>=1.0.0 in /usr/local/lib/python3.10/dist-packages (from category_encoders) (1.11.2)\n",
            "Requirement already satisfied: statsmodels>=0.9.0 in /usr/local/lib/python3.10/dist-packages (from category_encoders) (0.14.0)\n",
            "Requirement already satisfied: pandas>=1.0.5 in /usr/local/lib/python3.10/dist-packages (from category_encoders) (1.5.3)\n",
            "Requirement already satisfied: patsy>=0.5.1 in /usr/local/lib/python3.10/dist-packages (from category_encoders) (0.5.3)\n",
            "Requirement already satisfied: python-dateutil>=2.8.1 in /usr/local/lib/python3.10/dist-packages (from pandas>=1.0.5->category_encoders) (2.8.2)\n",
            "Requirement already satisfied: pytz>=2020.1 in /usr/local/lib/python3.10/dist-packages (from pandas>=1.0.5->category_encoders) (2023.3.post1)\n",
            "Requirement already satisfied: six in /usr/local/lib/python3.10/dist-packages (from patsy>=0.5.1->category_encoders) (1.16.0)\n",
            "Requirement already satisfied: joblib>=1.1.1 in /usr/local/lib/python3.10/dist-packages (from scikit-learn>=0.20.0->category_encoders) (1.3.2)\n",
            "Requirement already satisfied: threadpoolctl>=2.0.0 in /usr/local/lib/python3.10/dist-packages (from scikit-learn>=0.20.0->category_encoders) (3.2.0)\n",
            "Requirement already satisfied: packaging>=21.3 in /usr/local/lib/python3.10/dist-packages (from statsmodels>=0.9.0->category_encoders) (23.1)\n",
            "Installing collected packages: category_encoders\n",
            "Successfully installed category_encoders-2.6.2\n"
          ]
        }
      ]
    },
    {
      "cell_type": "code",
      "source": [
        "import category_encoders as ce\n",
        "import pandas as pd\n",
        "\n",
        "data = pd.DataFrame({'Category': ['A', 'B', 'A', 'C', 'B']})\n",
        "\n",
        "encoder = ce.BinaryEncoder(cols=['Category'])\n",
        "encoded_data = encoder.fit_transform(data)\n",
        "\n",
        "print(encoded_data)"
      ],
      "metadata": {
        "colab": {
          "base_uri": "https://localhost:8080/"
        },
        "id": "zroU6fgY3vD9",
        "outputId": "9acc729e-54f7-45ec-f61d-df64455e5ec1"
      },
      "execution_count": 11,
      "outputs": [
        {
          "output_type": "stream",
          "name": "stdout",
          "text": [
            "   Category_0  Category_1\n",
            "0           0           1\n",
            "1           1           0\n",
            "2           0           1\n",
            "3           1           1\n",
            "4           1           0\n"
          ]
        }
      ]
    },
    {
      "cell_type": "markdown",
      "source": [
        "Choose the encoding method based on the type of categorical variable you are dealing with and the requirements of your machine learning model. Ensure that the chosen encoding aligns with the characteristics of your data to avoid introducing bias or misinterpretations."
      ],
      "metadata": {
        "id": "A9-JC3Md4FY8"
      }
    },
    {
      "cell_type": "markdown",
      "source": [
        "# Creating new features\n",
        "\n",
        "- Creating new features, also known as feature engineering, is a critical step in data preprocessing for machine learning tasks. New features can improve model performance and help capture complex patterns in the data. Here are some common techniques and examples of creating new features in Python using the pandas library"
      ],
      "metadata": {
        "id": "iRWckRL34MWc"
      }
    },
    {
      "cell_type": "markdown",
      "source": [
        "## Binning or Bucketing\n",
        "\n",
        "- Create bins or buckets for continuous numeric variables to convert them into categorical variables."
      ],
      "metadata": {
        "id": "OIPblHPx4Z2e"
      }
    },
    {
      "cell_type": "code",
      "source": [
        "import pandas as pd\n",
        "\n",
        "data = pd.DataFrame({'Age': [25, 35, 45, 55, 65]})\n",
        "\n",
        "# Create age bins\n",
        "bins = [0, 30, 40, 50, 60, 100]\n",
        "labels = ['<30', '30-40', '40-50', '50-60', '60+']\n",
        "\n",
        "data['Age_Group'] = pd.cut(data['Age'], bins=bins, labels=labels)\n",
        "\n",
        "print(data)\n"
      ],
      "metadata": {
        "colab": {
          "base_uri": "https://localhost:8080/"
        },
        "id": "13szHFzo4dUe",
        "outputId": "50c737e1-5d5c-4a3f-ba41-0678ec752683"
      },
      "execution_count": 12,
      "outputs": [
        {
          "output_type": "stream",
          "name": "stdout",
          "text": [
            "   Age Age_Group\n",
            "0   25       <30\n",
            "1   35     30-40\n",
            "2   45     40-50\n",
            "3   55     50-60\n",
            "4   65       60+\n"
          ]
        }
      ]
    },
    {
      "cell_type": "markdown",
      "source": [
        "## Encoding Time Information\n",
        "\n",
        "- Extract information like year, month, day, or weekday from a datetime variable."
      ],
      "metadata": {
        "id": "YoW7d51X4hH0"
      }
    },
    {
      "cell_type": "code",
      "source": [
        "import pandas as pd\n",
        "\n",
        "data = pd.DataFrame({'Date': ['2023-09-01', '2023-09-15', '2023-09-30']})\n",
        "\n",
        "# Convert 'Date' to datetime\n",
        "data['Date'] = pd.to_datetime(data['Date'])\n",
        "\n",
        "# Extract year, month, and day\n",
        "data['Year'] = data['Date'].dt.year\n",
        "data['Month'] = data['Date'].dt.month\n",
        "data['Day'] = data['Date'].dt.day\n",
        "\n",
        "print(data)\n"
      ],
      "metadata": {
        "colab": {
          "base_uri": "https://localhost:8080/"
        },
        "id": "JroCRs_C4k-_",
        "outputId": "5e0d4147-5f7c-4ef1-c45c-085f5664c55d"
      },
      "execution_count": 13,
      "outputs": [
        {
          "output_type": "stream",
          "name": "stdout",
          "text": [
            "        Date  Year  Month  Day\n",
            "0 2023-09-01  2023      9    1\n",
            "1 2023-09-15  2023      9   15\n",
            "2 2023-09-30  2023      9   30\n"
          ]
        }
      ]
    },
    {
      "cell_type": "markdown",
      "source": [
        "## Feature Interaction\n",
        "\n",
        "- Create new features by combining existing features using mathematical operations."
      ],
      "metadata": {
        "id": "xMhdm_M34o01"
      }
    },
    {
      "cell_type": "code",
      "source": [
        "import pandas as pd\n",
        "\n",
        "data = pd.DataFrame({'Feature1': [2, 3, 4], 'Feature2': [5, 6, 7]})\n",
        "\n",
        "# Create a new feature by adding 'Feature1' and 'Feature2'\n",
        "data['Sum'] = data['Feature1'] + data['Feature2']\n",
        "\n",
        "print(data)\n"
      ],
      "metadata": {
        "colab": {
          "base_uri": "https://localhost:8080/"
        },
        "id": "FGV6IzA_4se3",
        "outputId": "8b5889af-db02-4d8b-a046-6f46b4243c7e"
      },
      "execution_count": 14,
      "outputs": [
        {
          "output_type": "stream",
          "name": "stdout",
          "text": [
            "   Feature1  Feature2  Sum\n",
            "0         2         5    7\n",
            "1         3         6    9\n",
            "2         4         7   11\n"
          ]
        }
      ]
    },
    {
      "cell_type": "markdown",
      "source": [
        "## Polynomial Features\n",
        "\n",
        "- Generate polynomial features by raising existing features to a certain power."
      ],
      "metadata": {
        "id": "WxW_Zi4G4wOg"
      }
    },
    {
      "cell_type": "code",
      "source": [
        "from sklearn.preprocessing import PolynomialFeatures\n",
        "import pandas as pd\n",
        "\n",
        "data = pd.DataFrame({'Feature1': [2, 3, 4]})\n",
        "\n",
        "poly = PolynomialFeatures(degree=2, include_bias=False)\n",
        "poly_features = poly.fit_transform(data)\n",
        "\n",
        "print(poly_features)\n"
      ],
      "metadata": {
        "colab": {
          "base_uri": "https://localhost:8080/"
        },
        "id": "QcVQcwla4zZl",
        "outputId": "ffbf5e83-2747-4030-c00a-9592ebb7553f"
      },
      "execution_count": 15,
      "outputs": [
        {
          "output_type": "stream",
          "name": "stdout",
          "text": [
            "[[ 2.  4.]\n",
            " [ 3.  9.]\n",
            " [ 4. 16.]]\n"
          ]
        }
      ]
    },
    {
      "cell_type": "markdown",
      "source": [
        "## Aggregation\n",
        "\n",
        "- Aggregate data over certain dimensions, such as grouping by a categorical variable and calculating statistics for each group."
      ],
      "metadata": {
        "id": "Td4OJ_SN42cm"
      }
    },
    {
      "cell_type": "code",
      "source": [
        "import pandas as pd\n",
        "\n",
        "data = pd.DataFrame({'Category': ['A', 'B', 'A', 'B'], 'Value': [10, 15, 20, 25]})\n",
        "\n",
        "# Calculate the mean value for each category\n",
        "agg_data = data.groupby('Category')['Value'].mean().reset_index()\n",
        "\n",
        "print(agg_data)\n"
      ],
      "metadata": {
        "colab": {
          "base_uri": "https://localhost:8080/"
        },
        "id": "lIftN6QY45yO",
        "outputId": "b72786a8-4ad2-410d-8594-affe2ccb1f52"
      },
      "execution_count": 16,
      "outputs": [
        {
          "output_type": "stream",
          "name": "stdout",
          "text": [
            "  Category  Value\n",
            "0        A   15.0\n",
            "1        B   20.0\n"
          ]
        }
      ]
    },
    {
      "cell_type": "markdown",
      "source": [
        "These are just a few examples of feature engineering techniques. The choice of which techniques to use depends on your specific dataset and the problem you're trying to solve. Feature engineering often involves creativity and domain knowledge to extract meaningful information from the data and improve model performance"
      ],
      "metadata": {
        "id": "cZf2MT2d4-tl"
      }
    },
    {
      "cell_type": "markdown",
      "source": [
        "## Log transformation\n",
        "- Logarithmic transformation is a common technique used to transform data with a skewed distribution, making it more normally distributed. This transformation is particularly useful when dealing with data that exhibits exponential growth or when you want to stabilize variances across a range of values. You can perform log transformations in Python using the numpy library for numerical operations. Here's how to do it"
      ],
      "metadata": {
        "id": "bslUJiCm5KDy"
      }
    },
    {
      "cell_type": "code",
      "source": [
        "import numpy as np\n",
        "\n",
        "# Sample data with a skewed distribution\n",
        "data = np.array([1, 10, 100, 1000, 10000])\n",
        "\n",
        "# Log transformation\n",
        "log_transformed_data = np.log(data)\n",
        "\n",
        "print(log_transformed_data)\n"
      ],
      "metadata": {
        "colab": {
          "base_uri": "https://localhost:8080/"
        },
        "id": "oyg_IUDd5OuX",
        "outputId": "621d3e76-6437-49f5-c651-481c29cf17a1"
      },
      "execution_count": 17,
      "outputs": [
        {
          "output_type": "stream",
          "name": "stdout",
          "text": [
            "[0.         2.30258509 4.60517019 6.90775528 9.21034037]\n"
          ]
        }
      ]
    },
    {
      "cell_type": "markdown",
      "source": [
        "In the example above, we applied a natural logarithm (base e) transformation to the data. You can also use other logarithmic bases, such as 10 (common logarithm) or 2 (binary logarithm), by specifying the base in the np.log() function. For example:"
      ],
      "metadata": {
        "id": "0q-C-RGa5SnO"
      }
    },
    {
      "cell_type": "code",
      "source": [
        "log10_transformed_data = np.log10(data)  # Base 10 logarithm\n",
        "log2_transformed_data = np.log2(data)    # Base 2 logarithm\n"
      ],
      "metadata": {
        "id": "NXbsmwnq5UrP"
      },
      "execution_count": 18,
      "outputs": []
    },
    {
      "cell_type": "markdown",
      "source": [
        "Keep in mind that log transformations are not suitable for data with zero or negative values. If your data contains such values, you can add a constant value to it before applying the log transformation to avoid undefined results. For example:"
      ],
      "metadata": {
        "id": "XqBZ7OV65XiH"
      }
    },
    {
      "cell_type": "code",
      "source": [
        "data_with_zeros = np.array([0, 1, 10, 100, 1000, 10000])\n",
        "constant = 1  # Add a small constant to avoid zero values\n",
        "\n",
        "log_transformed_data_with_zeros = np.log(data_with_zeros + constant)\n"
      ],
      "metadata": {
        "id": "ckfbtoJ05Zz2"
      },
      "execution_count": 19,
      "outputs": []
    },
    {
      "cell_type": "code",
      "source": [
        "log_transformed_data_with_zeros"
      ],
      "metadata": {
        "colab": {
          "base_uri": "https://localhost:8080/"
        },
        "id": "BwF-1zuo5bTG",
        "outputId": "8f62af1d-d1f9-4f27-cade-1edd1e4a7296"
      },
      "execution_count": 20,
      "outputs": [
        {
          "output_type": "execute_result",
          "data": {
            "text/plain": [
              "array([0.        , 0.69314718, 2.39789527, 4.61512052, 6.90875478,\n",
              "       9.21044037])"
            ]
          },
          "metadata": {},
          "execution_count": 20
        }
      ]
    },
    {
      "cell_type": "markdown",
      "source": [
        "When using log-transformed data in your analysis or modeling, remember to interpret the results appropriately, as the transformed values represent the logarithm of the original data."
      ],
      "metadata": {
        "id": "lqCwG7tq5h4H"
      }
    },
    {
      "cell_type": "markdown",
      "source": [
        "# Handling datetime data\n",
        "- Handling datetime data in Python is a common task, especially when working with time series data or performing data analysis involving date and time information. Python provides several libraries and modules, such as datetime, pandas, and numpy, to work with datetime data efficiently. Here's how you can handle datetime data in Python"
      ],
      "metadata": {
        "id": "cWQhVwl15yvX"
      }
    },
    {
      "cell_type": "markdown",
      "source": [
        "## datetime Module\n",
        "\n",
        "- The datetime module in Python is part of the standard library and provides classes and functions for manipulating and formatting datetime objects"
      ],
      "metadata": {
        "id": "f75XLOEb55TR"
      }
    },
    {
      "cell_type": "code",
      "source": [
        "import datetime\n",
        "\n",
        "# Creating a datetime object\n",
        "current_datetime = datetime.datetime.now()\n",
        "print(\"Current Datetime:\", current_datetime)\n",
        "\n",
        "# Formatting datetime\n",
        "formatted_date = current_datetime.strftime(\"%Y-%m-%d %H:%M:%S\")\n",
        "print(\"Formatted Datetime:\", formatted_date)\n",
        "\n",
        "# Parsing a string to datetime\n",
        "date_string = \"2023-09-24 14:30:00\"\n",
        "parsed_datetime = datetime.datetime.strptime(date_string, \"%Y-%m-%d %H:%M:%S\")\n",
        "print(\"Parsed Datetime:\", parsed_datetime)\n",
        "\n",
        "# Performing arithmetic with datetime\n",
        "one_day = datetime.timedelta(days=1)\n",
        "tomorrow = current_datetime + one_day\n",
        "print(\"Tomorrow:\", tomorrow)\n"
      ],
      "metadata": {
        "colab": {
          "base_uri": "https://localhost:8080/"
        },
        "id": "-JE_ojHt59kG",
        "outputId": "8dbfa9f5-11e0-4bb0-90db-2c632b33f6c6"
      },
      "execution_count": 21,
      "outputs": [
        {
          "output_type": "stream",
          "name": "stdout",
          "text": [
            "Current Datetime: 2023-09-24 15:56:18.573113\n",
            "Formatted Datetime: 2023-09-24 15:56:18\n",
            "Parsed Datetime: 2023-09-24 14:30:00\n",
            "Tomorrow: 2023-09-25 15:56:18.573113\n"
          ]
        }
      ]
    },
    {
      "cell_type": "markdown",
      "source": [
        "## pandas Library\n",
        "- Handling datetime data in pandas is a common task, especially when working with time series data or datasets that include date and time information. Here's a step-by-step example of how to handle datetime data using pandas"
      ],
      "metadata": {
        "id": "rSorstrN-RxP"
      }
    },
    {
      "cell_type": "code",
      "source": [
        "import pandas as pd\n",
        "\n",
        "# Create a sample dataset with datetime data\n",
        "data = {'Date': ['2023-09-01', '2023-09-02', '2023-09-03'],\n",
        "        'Value': [10, 15, 20]}\n",
        "\n",
        "# Create a DataFrame\n",
        "df = pd.DataFrame(data)\n",
        "\n",
        "# Convert the 'Date' column to a datetime object\n",
        "df['Date'] = pd.to_datetime(df['Date'])\n",
        "\n",
        "# Display the DataFrame\n",
        "print(\"Original DataFrame:\")\n",
        "print(df)\n",
        "\n",
        "# Extract date components\n",
        "df['Year'] = df['Date'].dt.year\n",
        "df['Month'] = df['Date'].dt.month\n",
        "df['Day'] = df['Date'].dt.day\n",
        "\n",
        "# Display the DataFrame with date components\n",
        "print(\"\\nDataFrame with Date Components:\")\n",
        "print(df)\n",
        "\n",
        "# Calculate the difference between dates\n",
        "df['Date_Diff'] = df['Date'].diff()\n",
        "\n",
        "# Display the DataFrame with date differences\n",
        "print(\"\\nDataFrame with Date Differences:\")\n",
        "print(df)\n"
      ],
      "metadata": {
        "colab": {
          "base_uri": "https://localhost:8080/"
        },
        "id": "lXrWiVGn-WBQ",
        "outputId": "6f03f8a3-8277-4d03-de77-c656dc8c0a7f"
      },
      "execution_count": 37,
      "outputs": [
        {
          "output_type": "stream",
          "name": "stdout",
          "text": [
            "Original DataFrame:\n",
            "        Date  Value\n",
            "0 2023-09-01     10\n",
            "1 2023-09-02     15\n",
            "2 2023-09-03     20\n",
            "\n",
            "DataFrame with Date Components:\n",
            "        Date  Value  Year  Month  Day\n",
            "0 2023-09-01     10  2023      9    1\n",
            "1 2023-09-02     15  2023      9    2\n",
            "2 2023-09-03     20  2023      9    3\n",
            "\n",
            "DataFrame with Date Differences:\n",
            "        Date  Value  Year  Month  Day Date_Diff\n",
            "0 2023-09-01     10  2023      9    1       NaT\n",
            "1 2023-09-02     15  2023      9    2    1 days\n",
            "2 2023-09-03     20  2023      9    3    1 days\n"
          ]
        }
      ]
    },
    {
      "cell_type": "markdown",
      "source": [
        "In this example:\n",
        "\n",
        "- We create a sample dataset with a 'Date' column in string format and a 'Value' column.\n",
        "\n",
        "- We convert the 'Date' column to a datetime object using pd.to_datetime() to enable datetime operations.\n",
        "\n",
        "- We extract date components (year, month, day) using the .dt accessor.\n",
        "\n",
        "- We calculate the difference between consecutive dates using the .diff() method.\n",
        "\n",
        "This demonstrates some common datetime operations, but pandas provides a wide range of datetime-related functionalities, including date arithmetic, date formatting, and date filtering, which can be extremely useful when working with time series data or datasets containing date and time information."
      ],
      "metadata": {
        "id": "VAC1qVS_-fjq"
      }
    },
    {
      "cell_type": "markdown",
      "source": [
        "## numpy Library\n",
        "\n",
        "- numpy can be used for numerical operations on datetime data, such as calculating time intervals."
      ],
      "metadata": {
        "id": "Hkx7_ZOZ731-"
      }
    },
    {
      "cell_type": "code",
      "source": [
        "import numpy as np\n",
        "\n",
        "# Creating a date range using numpy\n",
        "date_range = np.arange(np.datetime64(\"2023-09-01\"), np.datetime64(\"2023-09-06\"))\n",
        "print(\"Datetime Range:\")\n",
        "print(date_range)\n",
        "\n",
        "# Calculating time intervals\n",
        "time_interval = date_range[1] - date_range[0]\n",
        "print(\"Time Interval:\", time_interval)\n"
      ],
      "metadata": {
        "colab": {
          "base_uri": "https://localhost:8080/"
        },
        "id": "zlMvQZbL76z2",
        "outputId": "2a758eb2-5f40-4679-a729-147a5cdff435"
      },
      "execution_count": 32,
      "outputs": [
        {
          "output_type": "stream",
          "name": "stdout",
          "text": [
            "Datetime Range:\n",
            "['2023-09-01' '2023-09-02' '2023-09-03' '2023-09-04' '2023-09-05']\n",
            "Time Interval: 1 days\n"
          ]
        }
      ]
    },
    {
      "cell_type": "markdown",
      "source": [
        "# Dimensionality reduction\n",
        "- Dimensionality reduction is a technique used in machine learning and data analysis to reduce the number of features or variables in your dataset while preserving the most important information. This can help improve model performance, reduce overfitting, and speed up training. Two common techniques for dimensionality reduction in Python are Principal Component Analysis (PCA) and t-Distributed Stochastic Neighbor Embedding (t-SNE). Here's how you can use these techniques"
      ],
      "metadata": {
        "id": "7a5o29WF8cZ_"
      }
    },
    {
      "cell_type": "markdown",
      "source": [
        "## Principal Component Analysis (PCA)\n",
        "\n",
        "- Principal Component Analysis (PCA) is a popular technique for dimensionality reduction and data visualization. Here's a step-by-step example of how to perform PCA in Python using the scikit-learn library"
      ],
      "metadata": {
        "id": "7XMPA51-8hwl"
      }
    },
    {
      "cell_type": "code",
      "source": [
        "import numpy as np\n",
        "import pandas as pd\n",
        "import matplotlib.pyplot as plt\n",
        "from sklearn.decomposition import PCA\n",
        "from sklearn.preprocessing import StandardScaler\n",
        "\n",
        "# Create a sample dataset\n",
        "np.random.seed(0)\n",
        "data = np.random.rand(100, 3)  # 100 samples with 3 features\n",
        "\n",
        "# Create a DataFrame for visualization\n",
        "df = pd.DataFrame(data, columns=['Feature1', 'Feature2', 'Feature3'])\n",
        "\n",
        "# Standardize the data (PCA is sensitive to scale)\n",
        "scaler = StandardScaler()\n",
        "scaled_data = scaler.fit_transform(df)\n",
        "\n",
        "# Perform PCA with the desired number of components\n",
        "n_components = 2\n",
        "pca = PCA(n_components=n_components)\n",
        "principal_components = pca.fit_transform(scaled_data)\n",
        "\n",
        "# Create a DataFrame with the principal components\n",
        "pca_df = pd.DataFrame(data=principal_components, columns=['PC1', 'PC2'])\n",
        "\n",
        "# Variance explained by each component\n",
        "explained_variance = pca.explained_variance_ratio_\n",
        "\n",
        "# Visualize the variance explained by each component\n",
        "plt.bar(range(1, n_components + 1), explained_variance, alpha=0.5, align='center')\n",
        "plt.xlabel('Principal Components')\n",
        "plt.ylabel('Variance Explained')\n",
        "plt.title('Variance Explained by Principal Components')\n",
        "plt.show()\n",
        "\n",
        "# Plot the data in the reduced dimension\n",
        "plt.scatter(pca_df['PC1'], pca_df['PC2'], alpha=0.5)\n",
        "plt.xlabel('Principal Component 1')\n",
        "plt.ylabel('Principal Component 2')\n",
        "plt.title('PCA Projection')\n",
        "plt.show()\n"
      ],
      "metadata": {
        "colab": {
          "base_uri": "https://localhost:8080/",
          "height": 927
        },
        "id": "Xumxz8uv9SHB",
        "outputId": "f2ce5f51-0f67-46c4-9ca1-2e0050bd290d"
      },
      "execution_count": 35,
      "outputs": [
        {
          "output_type": "display_data",
          "data": {
            "text/plain": [
              "<Figure size 640x480 with 1 Axes>"
            ],
            "image/png": "[encoded data removed]"
          },
          "metadata": {}
        },
        {
          "output_type": "display_data",
          "data": {
            "text/plain": [
              "<Figure size 640x480 with 1 Axes>"
            ],
            "image/png": "[encoded data removed]"
          },
          "metadata": {}
        }
      ]
    },
    {
      "cell_type": "markdown",
      "source": [
        "In this example:\n",
        "\n",
        "- We create a random dataset with 100 samples and 3 features (Feature1, Feature2, Feature3).\n",
        "\n",
        "- We standardize the data using StandardScaler because PCA is sensitive to the scale of the input features.\n",
        "\n",
        "- We perform PCA with n_components=2 to reduce the dimensionality to 2 principal components.\n",
        "\n",
        "- We create a DataFrame with the principal components (PC1 and PC2) and visualize the variance explained by each component.\n",
        "\n",
        "- Finally, we plot the data in the reduced dimension using the first two principal components.\n",
        "\n",
        "You can adjust the n_components parameter to specify the number of principal components you want to retain based on the amount of variance you wish to explain. The explained variance plot helps you decide how many principal components to keep.\n",
        "\n",
        "\n",
        "\n",
        "\n",
        "\n",
        "Regenerate"
      ],
      "metadata": {
        "id": "bVO2_4gz9ZyC"
      }
    },
    {
      "cell_type": "markdown",
      "source": [
        "## -Distributed Stochastic Neighbor Embedding (t-SNE)\n",
        "\n",
        "- -Distributed Stochastic Neighbor Embedding (t-SNE) is a powerful technique for dimensionality reduction and visualization of high-dimensional data. Here's a step-by-step example of how to perform t-SNE in Python using the scikit-learn library"
      ],
      "metadata": {
        "id": "DdQhR3K-8yVB"
      }
    },
    {
      "cell_type": "code",
      "source": [
        "import numpy as np\n",
        "import pandas as pd\n",
        "import matplotlib.pyplot as plt\n",
        "from sklearn.manifold import TSNE\n",
        "from sklearn.preprocessing import StandardScaler\n",
        "\n",
        "# Create a sample dataset\n",
        "np.random.seed(0)\n",
        "data = np.random.rand(100, 3)  # 100 samples with 3 features\n",
        "\n",
        "# Create a DataFrame for visualization\n",
        "df = pd.DataFrame(data, columns=['Feature1', 'Feature2', 'Feature3'])\n",
        "\n",
        "# Standardize the data (t-SNE is sensitive to scale)\n",
        "scaler = StandardScaler()\n",
        "scaled_data = scaler.fit_transform(df)\n",
        "\n",
        "# Perform t-SNE with the desired number of components (typically 2 or 3)\n",
        "n_components = 2\n",
        "tsne = TSNE(n_components=n_components, random_state=0)\n",
        "embedded_data = tsne.fit_transform(scaled_data)\n",
        "\n",
        "# Create a DataFrame with the embedded data\n",
        "tsne_df = pd.DataFrame(data=embedded_data, columns=['Dimension 1', 'Dimension 2'])\n",
        "\n",
        "# Visualize the t-SNE projection\n",
        "plt.scatter(tsne_df['Dimension 1'], tsne_df['Dimension 2'], alpha=0.5)\n",
        "plt.xlabel('Dimension 1')\n",
        "plt.ylabel('Dimension 2')\n",
        "plt.title('t-SNE Projection')\n",
        "plt.show()\n"
      ],
      "metadata": {
        "colab": {
          "base_uri": "https://localhost:8080/",
          "height": 472
        },
        "id": "KoD5AW_583qX",
        "outputId": "c2308f57-2ea5-432b-e94d-34091165da8e"
      },
      "execution_count": 36,
      "outputs": [
        {
          "output_type": "display_data",
          "data": {
            "text/plain": [
              "<Figure size 640x480 with 1 Axes>"
            ],
            "image/png": "[encoded data removed]"
          },
          "metadata": {}
        }
      ]
    },
    {
      "cell_type": "markdown",
      "source": [
        "In this example:\n",
        "\n",
        "- We create a random dataset with 100 samples and 3 features (Feature1, Feature2, Feature3).\n",
        "\n",
        "- We standardize the data using StandardScaler because t-SNE is sensitive to the scale of the input features.\n",
        "\n",
        "- We perform t-SNE with n_components=2 to reduce the dimensionality to 2 dimensions, which can be easily visualized.\n",
        "\n",
        "- We create a DataFrame with the embedded data (Dimension 1 and Dimension 2) and visualize the t-SNE projection.\n",
        "\n",
        "\n",
        "The t-SNE projection aims to capture the underlying structure or clusters in the high-dimensional data and provides a 2D representation that can be plotted for visualization purposes.\n",
        "\n",
        "\n",
        "\n",
        "\n",
        "\n"
      ],
      "metadata": {
        "id": "TiEEoKSU9zCa"
      }
    },
    {
      "cell_type": "markdown",
      "source": [
        "# References\n",
        "Data transformation and feature engineering are crucial steps in preparing data for machine learning and analysis. Here are some references and resources for data transformation and feature engineering in Python:\n",
        "\n",
        "**Books**:\n",
        "\n",
        "1. \"Feature Engineering for Machine Learning: Principles and Techniques for Data Scientists\" by Alice Zheng and Amanda Casari: This book provides a comprehensive overview of feature engineering techniques and best practices for machine learning.\n",
        "\n",
        "2. \"Python Feature Engineering Cookbook\" by Soledad Galli: This book focuses on practical feature engineering techniques using Python and provides hands-on examples.\n",
        "\n",
        "**Online Tutorials and Courses**:\n",
        "\n",
        "3. [Feature Engineering for Machine Learning](https://www.coursera.org/specializations/aml): This Coursera specialization covers feature engineering and includes courses on data preprocessing, feature selection, and more.\n",
        "\n",
        "4. [Machine Learning Feature Engineering Techniques](https://towardsdatascience.com/feature-engineering-for-machine-learning-3a5e293a5114): A detailed blog post on various feature engineering techniques and when to use them.\n",
        "\n",
        "**Kaggle Kernels and Notebooks**:\n",
        "\n",
        "5. [Kaggle Feature Engineering](https://www.kaggle.com/learn/feature-engineering): Kaggle offers courses and kernels (notebooks) on feature engineering, where you can find practical examples and techniques used in real-world competitions.\n",
        "\n",
        "**GitHub Repositories**:\n",
        "\n",
        "6. [Feature Engineering for Machine Learning](https://github.com/datamunge/sign-language-recognition): This GitHub repository contains code and notebooks related to feature engineering for machine learning, with a focus on sign language recognition.\n",
        "\n",
        "**Interactive Python Libraries**:\n",
        "\n",
        "7. [Feature-engine](https://feature-engine.readthedocs.io/en/latest/): Feature-engine is an open-source Python library designed for feature engineering. It offers various transformers for data preprocessing tasks.\n",
        "\n",
        "**Research Papers**:\n",
        "\n",
        "8. \"A Survey of Feature Selection and Feature Extraction Techniques in Machine Learning\" by I. Guyon and A. Elisseeff: This survey paper provides an overview of feature selection and feature extraction techniques.\n",
        "\n",
        "9. \"The Elements of Statistical Learning\" by Trevor Hastie, Robert Tibshirani, and Jerome Friedman: While primarily a book on machine learning, it contains valuable information on feature engineering.\n",
        "\n",
        "These resources cover a wide range of feature engineering techniques, from the basics to advanced methods, and should help you gain a deeper understanding of how to preprocess and engineer features in Python for machine learning and data analysis."
      ],
      "metadata": {
        "id": "aDjvZ9Pw_95V"
      }
    },
    {
      "cell_type": "markdown",
      "source": [
        "**Dimensionality reduction is an essential technique in machine learning and data analysis for reducing the number of features while preserving important information. Here are some references and resources for dimensionality reduction in Python:**\n",
        "\n",
        "**Books**:\n",
        "\n",
        "1. \"Introduction to Machine Learning with Python\" by Andreas C. Müller and Sarah Guido: This book covers various aspects of machine learning, including dimensionality reduction techniques like PCA and t-SNE.\n",
        "\n",
        "2. \"Python Machine Learning\" by Sebastian Raschka and Vahid Mirjalili: The book discusses PCA, LDA, and other dimensionality reduction methods in the context of machine learning.\n",
        "\n",
        "**Online Courses and Tutorials**:\n",
        "\n",
        "3. [Principal Component Analysis (PCA) in Python](https://towardsdatascience.com/pca-using-python-scikit-learn-e653f8989e60): This tutorial on Medium explains PCA with Python code examples.\n",
        "\n",
        "4. [Coursera - Machine Learning Specialization](https://www.coursera.org/specializations/machine-learning): This specialization includes courses on PCA and dimensionality reduction as part of its curriculum.\n",
        "\n",
        "**Scikit-learn Documentation**:\n",
        "\n",
        "5. [Scikit-learn Dimensionality Reduction](https://scikit-learn.org/stable/modules/decomposition.html): The official documentation of scikit-learn provides detailed information on dimensionality reduction techniques, including PCA, LLE, and more.\n",
        "\n",
        "**Kaggle Kernels and Notebooks**:\n",
        "\n",
        "6. [Kaggle PCA Tutorial](https://www.kaggle.com/bertcarremans/pca-explained-and-applied): Kaggle has numerous notebooks and kernels related to dimensionality reduction, including PCA.\n",
        "\n",
        "**YouTube Tutorials**:\n",
        "\n",
        "7. [PCA in Python - Principal Component Analysis](https://www.youtube.com/watch?v=FgakZw6K1QQ): A YouTube tutorial explaining PCA in Python with practical examples.\n",
        "\n",
        "**GitHub Repositories**:\n",
        "\n",
        "8. [Dimensionality Reduction in Python](https://github.com/rasbt/pattern_classification/blob/master/dimensionality_reduction/projection/linear_discriminant_analysis.ipynb): This GitHub repository contains Jupyter notebooks demonstrating dimensionality reduction techniques, including PCA and LDA.\n",
        "\n",
        "**Research Papers**:\n",
        "\n",
        "9. \"A Tutorial on Principal Component Analysis\" by Jonathon Shlens: This influential paper provides an in-depth understanding of PCA.\n",
        "\n",
        "10. \"t-Distributed Stochastic Neighbor Embedding\" by Laurens van der Maaten and Geoffrey Hinton: The original paper on t-SNE, explaining the technique in detail.\n",
        "\n",
        "These resources cover a wide range of dimensionality reduction techniques, from linear methods like PCA to nonlinear methods like t-SNE. Whether you're a beginner or an advanced user, these references should help you learn and apply dimensionality reduction techniques effectively in Python."
      ],
      "metadata": {
        "id": "HWYW5bvaA7AP"
      }
    },
    {
      "cell_type": "code",
      "source": [],
      "metadata": {
        "id": "uc7TID6jA_PQ"
      },
      "execution_count": null,
      "outputs": []
    }
  ]
}