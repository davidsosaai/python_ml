{
  "nbformat": 4,
  "nbformat_minor": 0,
  "metadata": {
    "colab": {
      "provenance": [],
      "toc_visible": true,
      "authorship_tag": "ABX9TyOT1WsEV3iiPT5BtWg9dDvF",
      "include_colab_link": true
    },
    "kernelspec": {
      "name": "python3",
      "display_name": "Python 3"
    },
    "language_info": {
      "name": "python"
    }
  },
  "cells": [
    {
      "cell_type": "markdown",
      "metadata": {
        "id": "view-in-github",
        "colab_type": "text"
      },
      "source": [
        "<a href=\"https://colab.research.google.com/github/davidsosaai/python_ml/blob/main/Clases_1_%26_2.ipynb\" target=\"_parent\"><img src=\"https://colab.research.google.com/assets/colab-badge.svg\" alt=\"Open In Colab\"/></a>"
      ]
    },
    {
      "cell_type": "markdown",
      "source": [
        "# Introduction to Python\n",
        "\n",
        "![optimality.png](data:image/png;base64,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)"
      ],
      "metadata": {
        "id": "j9zR27WDCktn"
      }
    },
    {
      "cell_type": "markdown",
      "source": [
        "- Python is a high-level, versatile, and easy-to-read programming language used for web development, data analysis, AI, and more. It's known for its simplicity, extensive library support, and active developer community."
      ],
      "metadata": {
        "id": "rIKlt2akDR7z"
      }
    },
    {
      "cell_type": "markdown",
      "source": [
        "## Use Cases\n",
        "- Python is a highly popular programming language known for its simplicity and versatility. It's widely used in web development, data analysis, machine learning, artificial intelligence, scientific computing, automation, and more. Its extensive libraries and ease of use make it a top choice for developers in various domains.\n",
        "\n",
        "Python is an immensely popular programming language with a broad range of use cases due to its simplicity, readability, and extensive libraries. Some of its key use cases and areas of popularity include:\n",
        "\n",
        "1. **Web Development:** Python is used for building web applications and websites. Popular web frameworks like Django and Flask simplify web development tasks, making Python an excellent choice for developers.\n",
        "\n",
        "2. **Data Analysis and Visualization:** Python is widely used in data science and analysis. Libraries like NumPy, pandas, and Matplotlib enable efficient data manipulation, analysis, and visualization, making it a go-to language for data professionals.\n",
        "\n",
        "3. **Machine Learning and AI:** Python is a dominant language in the field of machine learning and artificial intelligence. Frameworks like TensorFlow, PyTorch, and scikit-learn provide powerful tools for developing machine learning models and AI applications.\n",
        "\n",
        "4. **Scientific Computing:** Python is popular in scientific research and simulation due to libraries like SciPy and SymPy. Scientists and researchers use Python to solve complex mathematical problems and simulate real-world scenarios.\n",
        "\n",
        "5. **Automation and Scripting:** Python's simplicity makes it ideal for writing scripts and automating repetitive tasks. It's commonly used for system administration, network programming, and task automation.\n",
        "\n",
        "6. **Game Development:** Python is used to develop video games and interactive applications, thanks to libraries like Pygame.\n",
        "\n",
        "7. **Desktop Applications:** Python's versatility extends to creating desktop applications. Frameworks like PyQt and Tkinter enable the development of cross-platform desktop software.\n",
        "\n",
        "8. **IoT (Internet of Things):** Python is employed in IoT projects for its ease of use and compatibility with microcontrollers and single-board computers like Raspberry Pi.\n",
        "\n",
        "9. **Finance and Trading:** Python is used in the finance industry for algorithmic trading, risk management, and financial analysis due to libraries like QuantLib and Pandas.\n",
        "\n",
        "10. **Education:** Python is a popular choice for teaching programming to beginners and is often used in educational settings.\n",
        "\n",
        "11. **Data Engineering:** Python is used for data pipeline development and ETL (Extract, Transform, Load) processes in data engineering.\n",
        "\n",
        "12. **Natural Language Processing (NLP):** Python is used extensively in NLP applications, such as chatbots, sentiment analysis, and language translation.\n",
        "\n",
        "Python's popularity in these diverse areas is due to its robustness, community support, and the availability of third-party packages and libraries that simplify development. Its ease of learning also makes it an attractive choice for both beginners and experienced developers."
      ],
      "metadata": {
        "id": "9AlySoAUEex2"
      }
    },
    {
      "cell_type": "markdown",
      "source": [
        "## Install\n",
        "- You do not need to install Python separately when using Google Colab (Colaboratory). Google Colab provides a cloud-based Python development environment that comes pre-configured with Python and many popular libraries for data science and machine learning. You can start using Python in Colab directly within your web browser without the need for any local installations.\n",
        "\n",
        "**Google Colab** allows you to create and run Python code cells in a Jupyter Notebook-like interface. It's a convenient platform for data analysis, machine learning, and collaborative coding, all without worrying about setting up Python on your local machine. Simply visit the Google Colab website and start working with Python right away."
      ],
      "metadata": {
        "id": "kbHWdMjnFZiM"
      }
    },
    {
      "cell_type": "markdown",
      "source": [
        "# Hello World!"
      ],
      "metadata": {
        "id": "PDzHcxpvKBAY"
      }
    },
    {
      "cell_type": "code",
      "source": [
        "# This is a comment in Python. Comments are ignored by the interpreter.\n",
        "# They are used to provide explanations or notes to the code.\n",
        "\n",
        "# The following line of code uses the 'print' function to display text.\n",
        "# 'print' is a built-in Python function used to output information.\n",
        "\n",
        "print(\"Hello, World!\")\n",
        "\n",
        "# The text \"Hello, World!\" is enclosed in double quotes to indicate it's a string.\n",
        "# Strings are sequences of characters, and in this case, it's the message we want to display.\n",
        "\n",
        "# The program executes the 'print' statement, and the message is shown in the console or output window."
      ],
      "metadata": {
        "colab": {
          "base_uri": "https://localhost:8080/"
        },
        "id": "1axR0UVlKHFT",
        "outputId": "a32ce0af-a667-4dfa-8872-2f611162f088"
      },
      "execution_count": 13,
      "outputs": [
        {
          "output_type": "stream",
          "name": "stdout",
          "text": [
            "Hello, World!\n"
          ]
        }
      ]
    },
    {
      "cell_type": "markdown",
      "source": [
        "# Python Basics"
      ],
      "metadata": {
        "id": "_0xw--fkFtWC"
      }
    },
    {
      "cell_type": "markdown",
      "source": [
        "## Variables and data types"
      ],
      "metadata": {
        "id": "xnuyw1itF1-H"
      }
    },
    {
      "cell_type": "markdown",
      "source": [
        "## Integers('int')\n",
        "- Integers are whole numbers without any decimal point."
      ],
      "metadata": {
        "id": "IK3orfAMGFG5"
      }
    },
    {
      "cell_type": "code",
      "source": [
        "# Integer variable\n",
        "#n this example, age is assigned the integer value 30.\n",
        "age = 25\n"
      ],
      "metadata": {
        "id": "dzdAaXWpGJGA"
      },
      "execution_count": 3,
      "outputs": []
    },
    {
      "cell_type": "markdown",
      "source": [
        "## Floats (float)\n",
        "- Floats are numbers with decimal points or in scientific notation."
      ],
      "metadata": {
        "id": "9lo_26oIGSNK"
      }
    },
    {
      "cell_type": "code",
      "source": [
        "#Here, temperature is assigned the floating-point value 98.6.\n",
        "temperature = 98.6\n"
      ],
      "metadata": {
        "id": "gs54h8b8G6vo"
      },
      "execution_count": 4,
      "outputs": []
    },
    {
      "cell_type": "markdown",
      "source": [
        "## Strings (str)\n",
        "- Strings are sequences of characters enclosed in single or double quotes."
      ],
      "metadata": {
        "id": "9zbH6FFSHA4S"
      }
    },
    {
      "cell_type": "code",
      "source": [
        "#In this case, name is a string containing the characters \"Alice.\"\n",
        "name = \"Alice\"\n"
      ],
      "metadata": {
        "id": "sFFXYTZdHFp4"
      },
      "execution_count": 5,
      "outputs": []
    },
    {
      "cell_type": "markdown",
      "source": [
        "## Data Type Example"
      ],
      "metadata": {
        "id": "_2KNBcn_HU0H"
      }
    },
    {
      "cell_type": "code",
      "source": [
        "# Variable and Data Type Examples\n",
        "\n",
        "# Integer example\n",
        "age = 30\n",
        "\n",
        "# Float example\n",
        "temperature = 98.6\n",
        "\n",
        "# String example\n",
        "name = \"Alice\"\n",
        "\n",
        "# Printing the variables and their data types\n",
        "print(\"Age:\", age, \"Type:\", type(age))\n",
        "print(\"Temperature:\", temperature, \"Type:\", type(temperature))\n",
        "print(\"Name:\", name, \"Type:\", type(name))\n"
      ],
      "metadata": {
        "colab": {
          "base_uri": "https://localhost:8080/"
        },
        "id": "wtjAnAfzHd7f",
        "outputId": "32dc2d49-2ec9-44b3-ba24-512befce9c98"
      },
      "execution_count": 6,
      "outputs": [
        {
          "output_type": "stream",
          "name": "stdout",
          "text": [
            "Age: 30 Type: <class 'int'>\n",
            "Temperature: 98.6 Type: <class 'float'>\n",
            "Name: Alice Type: <class 'str'>\n"
          ]
        }
      ]
    },
    {
      "cell_type": "markdown",
      "source": [
        "# Basic arithmetic operations\n",
        "- In Python, you can perform basic arithmetic operations on numbers, including addition, subtraction, multiplication, division, and exponentiation. Here are examples of each operation along with explanations:"
      ],
      "metadata": {
        "id": "U8DMR42mHt18"
      }
    },
    {
      "cell_type": "markdown",
      "source": [
        "## Addition (+):\n",
        "- Addition is used to find the sum of two or more numbers."
      ],
      "metadata": {
        "id": "_sKSI1ljICRy"
      }
    },
    {
      "cell_type": "code",
      "source": [
        "x = 5\n",
        "y = 3\n",
        "result = x + y\n",
        "print(\"Addition result:\", result)\n"
      ],
      "metadata": {
        "colab": {
          "base_uri": "https://localhost:8080/"
        },
        "id": "iwcYnrZ7IHx3",
        "outputId": "db4cdb54-14b8-431d-aa15-ceb0017c6bfc"
      },
      "execution_count": 7,
      "outputs": [
        {
          "output_type": "stream",
          "name": "stdout",
          "text": [
            "Addition result: 8\n"
          ]
        }
      ]
    },
    {
      "cell_type": "markdown",
      "source": [
        "##  Subtraction (-):\n",
        "- Subtraction is used to find the difference between two numbers."
      ],
      "metadata": {
        "id": "WLiv_gWRINR9"
      }
    },
    {
      "cell_type": "code",
      "source": [
        "x = 10\n",
        "y = 4\n",
        "result = x - y\n",
        "print(\"Subtraction result:\", result)\n"
      ],
      "metadata": {
        "colab": {
          "base_uri": "https://localhost:8080/"
        },
        "id": "iNbs2wQ2ISI3",
        "outputId": "f179fcac-2250-41f7-d905-244d6d1c962c"
      },
      "execution_count": 8,
      "outputs": [
        {
          "output_type": "stream",
          "name": "stdout",
          "text": [
            "Subtraction result: 6\n"
          ]
        }
      ]
    },
    {
      "cell_type": "markdown",
      "source": [
        "##  Multiplication (*):\n",
        "- Multiplication is used to find the product of two numbers."
      ],
      "metadata": {
        "id": "_G62yqNAIVyt"
      }
    },
    {
      "cell_type": "code",
      "source": [
        "x = 7\n",
        "y = 3\n",
        "result = x * y\n",
        "print(\"Multiplication result:\", result)\n"
      ],
      "metadata": {
        "colab": {
          "base_uri": "https://localhost:8080/"
        },
        "id": "y5d_sY_mIYuJ",
        "outputId": "3a6141f2-0408-429e-e3bb-9be5dc105de7"
      },
      "execution_count": 9,
      "outputs": [
        {
          "output_type": "stream",
          "name": "stdout",
          "text": [
            "Multiplication result: 21\n"
          ]
        }
      ]
    },
    {
      "cell_type": "markdown",
      "source": [
        "##  Division (/):\n",
        "- Division is used to find the quotient of two numbers."
      ],
      "metadata": {
        "id": "g_paISFBIdui"
      }
    },
    {
      "cell_type": "code",
      "source": [
        "x = 15\n",
        "y = 5\n",
        "result = x / y\n",
        "print(\"Division result:\", result)\n"
      ],
      "metadata": {
        "colab": {
          "base_uri": "https://localhost:8080/"
        },
        "id": "Xt5rull6Ig3Y",
        "outputId": "3e404010-568a-4682-d659-2c924a7dd87c"
      },
      "execution_count": 10,
      "outputs": [
        {
          "output_type": "stream",
          "name": "stdout",
          "text": [
            "Division result: 3.0\n"
          ]
        }
      ]
    },
    {
      "cell_type": "markdown",
      "source": [
        "## Exponentiation (**):\n",
        "- Exponentiation is used to raise a number to a power."
      ],
      "metadata": {
        "id": "6WevhTAdJCIW"
      }
    },
    {
      "cell_type": "code",
      "source": [
        "x = 2\n",
        "y = 3\n",
        "result = x ** y\n",
        "print(\"Exponentiation result:\", result)\n"
      ],
      "metadata": {
        "colab": {
          "base_uri": "https://localhost:8080/"
        },
        "id": "FJUXxLQPJF6Y",
        "outputId": "32232c61-f31b-4236-f560-da9b292ef87d"
      },
      "execution_count": 11,
      "outputs": [
        {
          "output_type": "stream",
          "name": "stdout",
          "text": [
            "Exponentiation result: 8\n"
          ]
        }
      ]
    },
    {
      "cell_type": "markdown",
      "source": [
        "# Control Flow\n",
        "- Control flow in Python refers to the order in which statements are executed in a program. Python provides various control flow structures to manage the flow of execution, make decisions, and repeat tasks. The primary control flow structures in Python are:"
      ],
      "metadata": {
        "id": "6LnqX80hKUQ1"
      }
    },
    {
      "cell_type": "markdown",
      "source": [
        "## Conditional Statements (if, elif, else)\n",
        "\n",
        "Conditional statements are used to execute specific code blocks based on the evaluation of a condition. The basic structure includes if, elif (short for \"else if\"), and else clauses."
      ],
      "metadata": {
        "id": "ChMHlekAKsLu"
      }
    },
    {
      "cell_type": "code",
      "source": [
        "num = 5\n",
        "\n",
        "if num > 0:\n",
        "    print(\"The number is positive.\")\n"
      ],
      "metadata": {
        "colab": {
          "base_uri": "https://localhost:8080/"
        },
        "id": "Rfb7kDBQK-E3",
        "outputId": "9c180c41-3d05-4ba9-eaa3-039469814ef0"
      },
      "execution_count": 15,
      "outputs": [
        {
          "output_type": "stream",
          "name": "stdout",
          "text": [
            "The number is positive.\n"
          ]
        }
      ]
    },
    {
      "cell_type": "code",
      "source": [
        "num = 7\n",
        "\n",
        "if num % 2 == 0:\n",
        "    print(\"The number is even.\")\n",
        "else:\n",
        "    print(\"The number is odd.\")\n"
      ],
      "metadata": {
        "colab": {
          "base_uri": "https://localhost:8080/"
        },
        "id": "SMpLAOaULMwv",
        "outputId": "82510427-2296-4eb2-acc7-65f3c26f520c"
      },
      "execution_count": 16,
      "outputs": [
        {
          "output_type": "stream",
          "name": "stdout",
          "text": [
            "The number is odd.\n"
          ]
        }
      ]
    },
    {
      "cell_type": "code",
      "source": [
        "score = 85\n",
        "\n",
        "if score >= 90:\n",
        "    print(\"A\")\n",
        "elif score >= 80:\n",
        "    print(\"B\")\n",
        "elif score >= 70:\n",
        "    print(\"C\")\n",
        "elif score >= 60:\n",
        "    print(\"D\")\n",
        "else:\n",
        "    print(\"F\")\n"
      ],
      "metadata": {
        "colab": {
          "base_uri": "https://localhost:8080/"
        },
        "id": "jkzT0ElXLOwH",
        "outputId": "c1140b75-82a8-4b28-b041-8205ad29dc93"
      },
      "execution_count": 17,
      "outputs": [
        {
          "output_type": "stream",
          "name": "stdout",
          "text": [
            "B\n"
          ]
        }
      ]
    },
    {
      "cell_type": "markdown",
      "source": [
        "## Loops (for and while loops)"
      ],
      "metadata": {
        "id": "yfo50AQrLdX7"
      }
    },
    {
      "cell_type": "code",
      "source": [
        "for i in range(1, 6):\n",
        "    print(i)\n"
      ],
      "metadata": {
        "colab": {
          "base_uri": "https://localhost:8080/"
        },
        "id": "JB3LKUIPLfy5",
        "outputId": "6607d399-9b3b-494b-83b2-71d4689d3124"
      },
      "execution_count": 18,
      "outputs": [
        {
          "output_type": "stream",
          "name": "stdout",
          "text": [
            "1\n",
            "2\n",
            "3\n",
            "4\n",
            "5\n"
          ]
        }
      ]
    },
    {
      "cell_type": "markdown",
      "source": [
        "- The for loop iterates over the range of numbers from 1 to 5 (inclusive) and prints each number."
      ],
      "metadata": {
        "id": "O0n1_arPLnmt"
      }
    },
    {
      "cell_type": "code",
      "source": [
        "i = 1\n",
        "while i <= 5:\n",
        "    print(i)\n",
        "    i += 1\n"
      ],
      "metadata": {
        "colab": {
          "base_uri": "https://localhost:8080/"
        },
        "id": "gcTpBTmGLqN3",
        "outputId": "02f70dc9-6a81-44e1-d78f-0f721af84584"
      },
      "execution_count": 19,
      "outputs": [
        {
          "output_type": "stream",
          "name": "stdout",
          "text": [
            "1\n",
            "2\n",
            "3\n",
            "4\n",
            "5\n"
          ]
        }
      ]
    },
    {
      "cell_type": "markdown",
      "source": [
        "- The while loop continues to execute as long as the condition i <= 5 is True. It initializes i to 1, prints the value of i, and then increments i in each iteration."
      ],
      "metadata": {
        "id": "I5UvUGl-Lt_O"
      }
    },
    {
      "cell_type": "markdown",
      "source": [
        "# Functions"
      ],
      "metadata": {
        "id": "Fbb6vA6EL_kM"
      }
    },
    {
      "cell_type": "markdown",
      "source": [
        "- Defining functions in Python allows you to encapsulate a block of code and give it a name, making it reusable throughout your program. Here's an example of how to define and use functions in Python:"
      ],
      "metadata": {
        "id": "d96p37xkMX7f"
      }
    },
    {
      "cell_type": "markdown",
      "source": [
        "## Simple Function"
      ],
      "metadata": {
        "id": "ZE6UU0VxNPPC"
      }
    },
    {
      "cell_type": "code",
      "source": [
        "# Define a function called \"greet\"\n",
        "def greet():\n",
        "    print(\"Hello, World!\")\n",
        "\n",
        "# Call the function\n",
        "greet()\n"
      ],
      "metadata": {
        "colab": {
          "base_uri": "https://localhost:8080/"
        },
        "id": "IyG3UJAkMYtg",
        "outputId": "ab769650-2dfb-47bf-d308-411359776e8d"
      },
      "execution_count": 20,
      "outputs": [
        {
          "output_type": "stream",
          "name": "stdout",
          "text": [
            "Hello, World!\n"
          ]
        }
      ]
    },
    {
      "cell_type": "markdown",
      "source": [
        "- We start by defining a function using the def keyword, followed by the function name (greet in this case) and parentheses (). The colon : indicates the start of the function block.\n",
        "- Inside the function block, we have a single line of code that prints \"Hello, World!\" to the console.\n",
        "- After defining the function, we call it using the function name followed by parentheses, greet(). This executes the code inside the function.\n",
        "\n",
        "When you run this code, it will print \"Hello, World!\" to the console because you've called the greet function."
      ],
      "metadata": {
        "id": "U4psnH_QMfSX"
      }
    },
    {
      "cell_type": "markdown",
      "source": [
        "## Function with Parameters"
      ],
      "metadata": {
        "id": "jnpYgIslNUOY"
      }
    },
    {
      "cell_type": "code",
      "source": [
        "# Define a function called \"add_numbers\" that takes two parameters\n",
        "def add_numbers(x, y):\n",
        "    result = x + y\n",
        "    return result\n",
        "\n",
        "# Call the function with arguments and store the result\n",
        "sum_result = add_numbers(5, 3)\n",
        "\n",
        "# Print the result\n",
        "print(\"The sum is:\", sum_result)\n"
      ],
      "metadata": {
        "colab": {
          "base_uri": "https://localhost:8080/"
        },
        "id": "ZPK1REGMMiYx",
        "outputId": "97781d64-41e3-4075-a978-d751f5ee10e7"
      },
      "execution_count": 21,
      "outputs": [
        {
          "output_type": "stream",
          "name": "stdout",
          "text": [
            "The sum is: 8\n"
          ]
        }
      ]
    },
    {
      "cell_type": "markdown",
      "source": [
        "- In this example, we define a function add_numbers that takes two parameters, x and y.\n",
        "- Inside the function, we calculate the sum of x and y and use the return statement to send the result back to the caller.\n",
        "- We call the add_numbers function with arguments 5 and 3, and the result is stored in the sum_result variable.\n",
        "- Finally, we print the result, which is \"The sum is: 8.\"\n",
        "\n",
        "These examples demonstrate how to define and use functions in Python, both with and without parameters. Functions are essential for organizing and reusing code in your programs, making them more modular and maintainable."
      ],
      "metadata": {
        "id": "bQhdaxRgMqxk"
      }
    },
    {
      "cell_type": "markdown",
      "source": [
        "# Data Structures"
      ],
      "metadata": {
        "id": "dEzpOpSUNtKP"
      }
    },
    {
      "cell_type": "markdown",
      "source": [
        "## Lists (list)\n",
        "- Lists are ordered collections of elements.\n",
        "- They can store elements of different data types.\n",
        "- Lists are mutable, allowing you to add, remove, or modify elements."
      ],
      "metadata": {
        "id": "RrpvcGoiY2W1"
      }
    },
    {
      "cell_type": "code",
      "source": [
        "my_list = [1, 2, 3, 'Python']\n"
      ],
      "metadata": {
        "id": "1ICpcWt1Y7l7"
      },
      "execution_count": 22,
      "outputs": []
    },
    {
      "cell_type": "markdown",
      "source": [
        "## Tuples (tuple)\n",
        "- Tuples are similar to lists but are immutable, meaning their elements cannot be changed once defined.\n",
        "- They are often used for collections of related values."
      ],
      "metadata": {
        "id": "uLX21cO4ZAzn"
      }
    },
    {
      "cell_type": "code",
      "source": [
        "my_tuple = (1, 2, 3, 'Python')\n"
      ],
      "metadata": {
        "id": "G3uNSjghZFdS"
      },
      "execution_count": 23,
      "outputs": []
    },
    {
      "cell_type": "markdown",
      "source": [
        "## Dictionaries (dict)\n",
        "- Dictionaries are collections of key-value pairs.\n",
        "- They are unordered and use keys to access values."
      ],
      "metadata": {
        "id": "KDom1no4ZPbf"
      }
    },
    {
      "cell_type": "code",
      "source": [
        "my_dict = {'name': 'Alice', 'age': 30}\n"
      ],
      "metadata": {
        "id": "FnmCUlHHZTjo"
      },
      "execution_count": 24,
      "outputs": []
    },
    {
      "cell_type": "markdown",
      "source": [
        "## Sets (set):\n",
        "- Sets are unordered collections of unique elements.\n",
        "- They are used when you need to store a collection of distinct values."
      ],
      "metadata": {
        "id": "LCQsOQWMZY4R"
      }
    },
    {
      "cell_type": "code",
      "source": [
        "my_set = {1, 2, 3, 4, 4}  # Note that duplicate values are automatically removed\n"
      ],
      "metadata": {
        "id": "EqubXOnTZbex"
      },
      "execution_count": 25,
      "outputs": []
    },
    {
      "cell_type": "markdown",
      "source": [
        "# Error Handling\n",
        "- Error handling in Python allows you to gracefully handle and respond to exceptions or errors that may occur during the execution of your code. Python provides mechanisms to catch, handle, and potentially recover from errors. The key components of error handling in Python are:"
      ],
      "metadata": {
        "id": "De5bMIubZwHL"
      }
    },
    {
      "cell_type": "markdown",
      "source": [
        "## Try-Except Blocks\n",
        "- the try block contains code that attempts to divide two numbers provided by the user. This code can potentially raise exceptions, such as ValueError (if non-integer input is provided) and ZeroDivisionError (if the second number is 0).\n",
        "- The except blocks are used to catch specific exceptions and handle them accordingly. The generic except block at the end can catch any other exceptions that may occur.\n",
        "- The else block contains code that executes if no exceptions were raised.\n",
        "- The finally block contains code that always executes, regardless of whether an exception occurred or not. It's often used for cleanup operations."
      ],
      "metadata": {
        "id": "VX1E5JFKaHG8"
      }
    },
    {
      "cell_type": "code",
      "source": [
        "try:\n",
        "    # Code that may raise an exception\n",
        "    num1 = int(input(\"Enter a number: \"))\n",
        "    num2 = int(input(\"Enter another number: \"))\n",
        "    result = num1 / num2\n",
        "    print(\"Result:\", result)\n",
        "except ValueError:\n",
        "    # Code to handle a ValueError (e.g., if the user enters a non-integer)\n",
        "    print(\"Invalid input. Please enter valid numbers.\")\n",
        "except ZeroDivisionError:\n",
        "    # Code to handle a ZeroDivisionError (e.g., if the user enters 0 as the second number)\n",
        "    print(\"Division by zero is not allowed.\")\n",
        "except Exception as e:\n",
        "    # Code to handle any other exception (generic exception)\n",
        "    print(f\"An error occurred: {e}\")\n",
        "else:\n",
        "    # Code that executes if no exception occurred\n",
        "    print(\"No exceptions were raised.\")\n",
        "finally:\n",
        "    # Code that always executes, even if an exception occurred\n",
        "    print(\"Execution finished.\")\n",
        "\n"
      ],
      "metadata": {
        "colab": {
          "base_uri": "https://localhost:8080/"
        },
        "id": "xnfdfLOdaKXT",
        "outputId": "055cb115-ce2a-4725-b162-af4c434c84ee"
      },
      "execution_count": 28,
      "outputs": [
        {
          "output_type": "stream",
          "name": "stdout",
          "text": [
            "Enter a number: 5\n",
            "Enter another number: 9\n",
            "Result: 0.5555555555555556\n",
            "No exceptions were raised.\n",
            "Execution finished.\n"
          ]
        }
      ]
    },
    {
      "cell_type": "markdown",
      "source": [
        "# References\n",
        "Certainly! Here are a couple of references for introductory courses in Python:\n",
        "\n",
        "1. **Coursera - Python for Everybody:**\n",
        "   - Instructor: Dr. Charles Severance (also known as Dr. Chuck)\n",
        "   - This is a highly recommended introductory course on Python that covers programming fundamentals, data structures, and web scraping.\n",
        "   - Course Link: [Python for Everybody on Coursera](https://www.coursera.org/specializations/python)\n",
        "\n",
        "2. **edX - Introduction to Python: Absolute Beginner:**\n",
        "   - Offered by Microsoft, this course is designed for absolute beginners and covers Python syntax, data types, and basic programming concepts.\n",
        "   - Course Link: [Introduction to Python: Absolute Beginner on edX](https://www.edx.org/course/introduction-to-python-absolute-beginner)\n",
        "\n",
        "3. **Codecademy - Learn Python:**\n",
        "   - Codecademy offers an interactive and hands-on Python course suitable for beginners. It covers Python syntax and basic programming concepts.\n",
        "   - Course Link: [Learn Python on Codecademy](https://www.codecademy.com/learn/learn-python-3)\n",
        "\n",
        "4. **Udemy - Complete Python Bootcamp:**\n",
        "   - Instructor: Jose Portilla\n",
        "   - This comprehensive Python course covers a wide range of topics, including data structures, object-oriented programming, and web development with Django.\n",
        "   - Course Link: [Complete Python Bootcamp on Udemy](https://www.udemy.com/course/complete-python-bootcamp/)\n",
        "\n",
        "5. **Python.org - Python for Beginners:**\n",
        "   - Python's official website offers a collection of resources and tutorials specifically aimed at beginners. It includes a beginner's guide and links to various learning materials.\n",
        "   - Python for Beginners: [Python.org - Beginner's Guide](https://docs.python.org/3/tutorial/index.html)\n",
        "\n",
        "6. **Book - \"Automate the Boring Stuff with Python\" by Al Sweigart:**\n",
        "   - This book is perfect for beginners who want to learn Python for practical tasks like automating everyday computer tasks and working with data.\n",
        "   - Book Link: [Automate the Boring Stuff with Python](https://automatetheboringstuff.com/)\n",
        "\n",
        "7. **Book - \"Python Crash Course\" by Eric Matthes:**\n",
        "   - This book is designed for complete beginners and covers Python fundamentals and practical projects.\n",
        "   - Book Link: [Python Crash Course](https://nostarch.com/pythoncrashcourse2e)\n",
        "\n",
        "These references offer a variety of learning options, from online courses to books, catering to different learning styles and preferences. Depending on your goals and prior programming experience, you can choose the resource that suits you best."
      ],
      "metadata": {
        "id": "r98BzGvSaz5f"
      }
    }
  ]
}